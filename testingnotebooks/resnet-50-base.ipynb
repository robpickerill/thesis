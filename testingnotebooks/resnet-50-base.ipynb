{
 "cells": [
  {
   "cell_type": "code",
   "execution_count": 1,
   "metadata": {},
   "outputs": [
    {
     "name": "stdout",
     "output_type": "stream",
     "text": [
      "Requirement already satisfied: tensorflow in ./.notebook/lib/python3.10/site-packages (2.17.0)\n",
      "Requirement already satisfied: keras in ./.notebook/lib/python3.10/site-packages (3.5.0)\n",
      "Requirement already satisfied: scikit-learn in ./.notebook/lib/python3.10/site-packages (1.5.2)\n",
      "Requirement already satisfied: opencv-python in ./.notebook/lib/python3.10/site-packages (4.10.0.84)\n",
      "Requirement already satisfied: matplotlib in ./.notebook/lib/python3.10/site-packages (3.9.2)\n",
      "Requirement already satisfied: keras_tuner in ./.notebook/lib/python3.10/site-packages (1.4.7)\n",
      "Requirement already satisfied: keras_cv in ./.notebook/lib/python3.10/site-packages (0.9.0)\n",
      "Requirement already satisfied: numpy in ./.notebook/lib/python3.10/site-packages (1.26.4)\n",
      "Collecting numpy\n",
      "  Using cached numpy-2.1.1-cp310-cp310-manylinux_2_17_x86_64.manylinux2014_x86_64.whl (16.3 MB)\n",
      "Requirement already satisfied: seaborn in ./.notebook/lib/python3.10/site-packages (0.13.2)\n",
      "Requirement already satisfied: requests<3,>=2.21.0 in ./.notebook/lib/python3.10/site-packages (from tensorflow) (2.32.3)\n",
      "Requirement already satisfied: protobuf!=4.21.0,!=4.21.1,!=4.21.2,!=4.21.3,!=4.21.4,!=4.21.5,<5.0.0dev,>=3.20.3 in ./.notebook/lib/python3.10/site-packages (from tensorflow) (3.20.3)\n",
      "Requirement already satisfied: opt-einsum>=2.3.2 in ./.notebook/lib/python3.10/site-packages (from tensorflow) (3.3.0)\n",
      "Requirement already satisfied: google-pasta>=0.1.1 in ./.notebook/lib/python3.10/site-packages (from tensorflow) (0.2.0)\n",
      "Requirement already satisfied: h5py>=3.10.0 in ./.notebook/lib/python3.10/site-packages (from tensorflow) (3.11.0)\n",
      "Requirement already satisfied: gast!=0.5.0,!=0.5.1,!=0.5.2,>=0.2.1 in ./.notebook/lib/python3.10/site-packages (from tensorflow) (0.6.0)\n",
      "Requirement already satisfied: typing-extensions>=3.6.6 in ./.notebook/lib/python3.10/site-packages (from tensorflow) (4.12.2)\n",
      "Requirement already satisfied: six>=1.12.0 in ./.notebook/lib/python3.10/site-packages (from tensorflow) (1.16.0)\n",
      "Requirement already satisfied: libclang>=13.0.0 in ./.notebook/lib/python3.10/site-packages (from tensorflow) (18.1.1)\n",
      "Requirement already satisfied: termcolor>=1.1.0 in ./.notebook/lib/python3.10/site-packages (from tensorflow) (2.4.0)\n",
      "Requirement already satisfied: flatbuffers>=24.3.25 in ./.notebook/lib/python3.10/site-packages (from tensorflow) (24.3.25)\n",
      "Requirement already satisfied: tensorboard<2.18,>=2.17 in ./.notebook/lib/python3.10/site-packages (from tensorflow) (2.17.1)\n",
      "Requirement already satisfied: setuptools in ./.notebook/lib/python3.10/site-packages (from tensorflow) (59.6.0)\n",
      "Requirement already satisfied: packaging in ./.notebook/lib/python3.10/site-packages (from tensorflow) (24.1)\n",
      "Requirement already satisfied: tensorflow-io-gcs-filesystem>=0.23.1 in ./.notebook/lib/python3.10/site-packages (from tensorflow) (0.37.1)\n",
      "Requirement already satisfied: astunparse>=1.6.0 in ./.notebook/lib/python3.10/site-packages (from tensorflow) (1.6.3)\n",
      "Requirement already satisfied: absl-py>=1.0.0 in ./.notebook/lib/python3.10/site-packages (from tensorflow) (2.1.0)\n",
      "Requirement already satisfied: ml-dtypes<0.5.0,>=0.3.1 in ./.notebook/lib/python3.10/site-packages (from tensorflow) (0.4.1)\n",
      "Requirement already satisfied: grpcio<2.0,>=1.24.3 in ./.notebook/lib/python3.10/site-packages (from tensorflow) (1.66.1)\n",
      "Requirement already satisfied: wrapt>=1.11.0 in ./.notebook/lib/python3.10/site-packages (from tensorflow) (1.16.0)\n",
      "Requirement already satisfied: namex in ./.notebook/lib/python3.10/site-packages (from keras) (0.0.8)\n",
      "Requirement already satisfied: rich in ./.notebook/lib/python3.10/site-packages (from keras) (13.8.1)\n",
      "Requirement already satisfied: optree in ./.notebook/lib/python3.10/site-packages (from keras) (0.12.1)\n",
      "Requirement already satisfied: threadpoolctl>=3.1.0 in ./.notebook/lib/python3.10/site-packages (from scikit-learn) (3.5.0)\n",
      "Requirement already satisfied: scipy>=1.6.0 in ./.notebook/lib/python3.10/site-packages (from scikit-learn) (1.14.1)\n",
      "Requirement already satisfied: joblib>=1.2.0 in ./.notebook/lib/python3.10/site-packages (from scikit-learn) (1.4.2)\n",
      "Requirement already satisfied: kiwisolver>=1.3.1 in ./.notebook/lib/python3.10/site-packages (from matplotlib) (1.4.7)\n",
      "Requirement already satisfied: pillow>=8 in ./.notebook/lib/python3.10/site-packages (from matplotlib) (10.4.0)\n",
      "Requirement already satisfied: pyparsing>=2.3.1 in ./.notebook/lib/python3.10/site-packages (from matplotlib) (3.1.4)\n",
      "Requirement already satisfied: python-dateutil>=2.7 in ./.notebook/lib/python3.10/site-packages (from matplotlib) (2.9.0.post0)\n",
      "Requirement already satisfied: cycler>=0.10 in ./.notebook/lib/python3.10/site-packages (from matplotlib) (0.12.1)\n",
      "Requirement already satisfied: fonttools>=4.22.0 in ./.notebook/lib/python3.10/site-packages (from matplotlib) (4.53.1)\n",
      "Requirement already satisfied: contourpy>=1.0.1 in ./.notebook/lib/python3.10/site-packages (from matplotlib) (1.3.0)\n",
      "Requirement already satisfied: kt-legacy in ./.notebook/lib/python3.10/site-packages (from keras_tuner) (1.0.5)\n",
      "Requirement already satisfied: keras-core in ./.notebook/lib/python3.10/site-packages (from keras_cv) (0.1.7)\n",
      "Requirement already satisfied: tensorflow-datasets in ./.notebook/lib/python3.10/site-packages (from keras_cv) (4.9.6)\n",
      "Requirement already satisfied: kagglehub in ./.notebook/lib/python3.10/site-packages (from keras_cv) (0.3.0)\n",
      "Requirement already satisfied: regex in ./.notebook/lib/python3.10/site-packages (from keras_cv) (2024.9.11)\n",
      "Requirement already satisfied: pandas>=1.2 in ./.notebook/lib/python3.10/site-packages (from seaborn) (2.2.3)\n",
      "Requirement already satisfied: wheel<1.0,>=0.23.0 in ./.notebook/lib/python3.10/site-packages (from astunparse>=1.6.0->tensorflow) (0.44.0)\n",
      "Requirement already satisfied: pytz>=2020.1 in ./.notebook/lib/python3.10/site-packages (from pandas>=1.2->seaborn) (2024.2)\n",
      "Requirement already satisfied: tzdata>=2022.7 in ./.notebook/lib/python3.10/site-packages (from pandas>=1.2->seaborn) (2024.1)\n",
      "Requirement already satisfied: idna<4,>=2.5 in ./.notebook/lib/python3.10/site-packages (from requests<3,>=2.21.0->tensorflow) (3.10)\n",
      "Requirement already satisfied: certifi>=2017.4.17 in ./.notebook/lib/python3.10/site-packages (from requests<3,>=2.21.0->tensorflow) (2024.8.30)\n",
      "Requirement already satisfied: charset-normalizer<4,>=2 in ./.notebook/lib/python3.10/site-packages (from requests<3,>=2.21.0->tensorflow) (3.3.2)\n",
      "Requirement already satisfied: urllib3<3,>=1.21.1 in ./.notebook/lib/python3.10/site-packages (from requests<3,>=2.21.0->tensorflow) (2.2.3)\n",
      "Requirement already satisfied: markdown>=2.6.8 in ./.notebook/lib/python3.10/site-packages (from tensorboard<2.18,>=2.17->tensorflow) (3.7)\n",
      "Requirement already satisfied: tensorboard-data-server<0.8.0,>=0.7.0 in ./.notebook/lib/python3.10/site-packages (from tensorboard<2.18,>=2.17->tensorflow) (0.7.2)\n",
      "Requirement already satisfied: werkzeug>=1.0.1 in ./.notebook/lib/python3.10/site-packages (from tensorboard<2.18,>=2.17->tensorflow) (3.0.4)\n",
      "Requirement already satisfied: tqdm in ./.notebook/lib/python3.10/site-packages (from kagglehub->keras_cv) (4.66.5)\n",
      "Requirement already satisfied: dm-tree in ./.notebook/lib/python3.10/site-packages (from keras-core->keras_cv) (0.1.8)\n",
      "Requirement already satisfied: markdown-it-py>=2.2.0 in ./.notebook/lib/python3.10/site-packages (from rich->keras) (3.0.0)\n",
      "Requirement already satisfied: pygments<3.0.0,>=2.13.0 in ./.notebook/lib/python3.10/site-packages (from rich->keras) (2.18.0)\n",
      "Requirement already satisfied: immutabledict in ./.notebook/lib/python3.10/site-packages (from tensorflow-datasets->keras_cv) (4.2.0)\n",
      "Requirement already satisfied: promise in ./.notebook/lib/python3.10/site-packages (from tensorflow-datasets->keras_cv) (2.3)\n",
      "Requirement already satisfied: tensorflow-metadata in ./.notebook/lib/python3.10/site-packages (from tensorflow-datasets->keras_cv) (1.15.0)\n",
      "Requirement already satisfied: etils[enp,epath,epy,etree]>=1.6.0 in ./.notebook/lib/python3.10/site-packages (from tensorflow-datasets->keras_cv) (1.9.4)\n",
      "Requirement already satisfied: pyarrow in ./.notebook/lib/python3.10/site-packages (from tensorflow-datasets->keras_cv) (17.0.0)\n",
      "Requirement already satisfied: toml in ./.notebook/lib/python3.10/site-packages (from tensorflow-datasets->keras_cv) (0.10.2)\n",
      "Requirement already satisfied: click in ./.notebook/lib/python3.10/site-packages (from tensorflow-datasets->keras_cv) (8.1.7)\n",
      "Requirement already satisfied: simple-parsing in ./.notebook/lib/python3.10/site-packages (from tensorflow-datasets->keras_cv) (0.1.6)\n",
      "Requirement already satisfied: psutil in ./.notebook/lib/python3.10/site-packages (from tensorflow-datasets->keras_cv) (6.0.0)\n",
      "Requirement already satisfied: array-record>=0.5.0 in ./.notebook/lib/python3.10/site-packages (from tensorflow-datasets->keras_cv) (0.5.1)\n",
      "Requirement already satisfied: zipp in ./.notebook/lib/python3.10/site-packages (from etils[enp,epath,epy,etree]>=1.6.0->tensorflow-datasets->keras_cv) (3.20.2)\n",
      "Requirement already satisfied: importlib_resources in ./.notebook/lib/python3.10/site-packages (from etils[enp,epath,epy,etree]>=1.6.0->tensorflow-datasets->keras_cv) (6.4.5)\n",
      "Requirement already satisfied: fsspec in ./.notebook/lib/python3.10/site-packages (from etils[enp,epath,epy,etree]>=1.6.0->tensorflow-datasets->keras_cv) (2024.9.0)\n",
      "Requirement already satisfied: mdurl~=0.1 in ./.notebook/lib/python3.10/site-packages (from markdown-it-py>=2.2.0->rich->keras) (0.1.2)\n",
      "Requirement already satisfied: MarkupSafe>=2.1.1 in ./.notebook/lib/python3.10/site-packages (from werkzeug>=1.0.1->tensorboard<2.18,>=2.17->tensorflow) (2.1.5)\n",
      "Requirement already satisfied: docstring-parser<1.0,>=0.15 in ./.notebook/lib/python3.10/site-packages (from simple-parsing->tensorflow-datasets->keras_cv) (0.16)\n",
      "Note: you may need to restart the kernel to use updated packages.\n"
     ]
    }
   ],
   "source": [
    "%pip install --upgrade tensorflow keras scikit-learn opencv-python matplotlib keras_tuner keras_cv numpy seaborn"
   ]
  },
  {
   "cell_type": "code",
   "execution_count": 2,
   "metadata": {},
   "outputs": [],
   "source": [
    "import os\n",
    "os.environ['TF_CPP_MIN_LOG_LEVEL'] = '3'"
   ]
  },
  {
   "cell_type": "code",
   "execution_count": 3,
   "metadata": {},
   "outputs": [
    {
     "name": "stdout",
     "output_type": "stream",
     "text": [
      "2.17.0\n",
      "GPU Available: [PhysicalDevice(name='/physical_device:GPU:0', device_type='GPU'), PhysicalDevice(name='/physical_device:GPU:1', device_type='GPU')]\n"
     ]
    },
    {
     "name": "stderr",
     "output_type": "stream",
     "text": [
      "WARNING: All log messages before absl::InitializeLog() is called are written to STDERR\n",
      "I0000 00:00:1727598408.031814   45235 cuda_executor.cc:1015] successful NUMA node read from SysFS had negative value (-1), but there must be at least one NUMA node, so returning NUMA node zero. See more at https://github.com/torvalds/linux/blob/v6.0/Documentation/ABI/testing/sysfs-bus-pci#L344-L355\n",
      "I0000 00:00:1727598408.036171   45235 cuda_executor.cc:1015] successful NUMA node read from SysFS had negative value (-1), but there must be at least one NUMA node, so returning NUMA node zero. See more at https://github.com/torvalds/linux/blob/v6.0/Documentation/ABI/testing/sysfs-bus-pci#L344-L355\n",
      "I0000 00:00:1727598408.097650   45235 cuda_executor.cc:1015] successful NUMA node read from SysFS had negative value (-1), but there must be at least one NUMA node, so returning NUMA node zero. See more at https://github.com/torvalds/linux/blob/v6.0/Documentation/ABI/testing/sysfs-bus-pci#L344-L355\n",
      "I0000 00:00:1727598408.097966   45235 cuda_executor.cc:1015] successful NUMA node read from SysFS had negative value (-1), but there must be at least one NUMA node, so returning NUMA node zero. See more at https://github.com/torvalds/linux/blob/v6.0/Documentation/ABI/testing/sysfs-bus-pci#L344-L355\n",
      "I0000 00:00:1727598408.098172   45235 cuda_executor.cc:1015] successful NUMA node read from SysFS had negative value (-1), but there must be at least one NUMA node, so returning NUMA node zero. See more at https://github.com/torvalds/linux/blob/v6.0/Documentation/ABI/testing/sysfs-bus-pci#L344-L355\n",
      "I0000 00:00:1727598408.098361   45235 cuda_executor.cc:1015] successful NUMA node read from SysFS had negative value (-1), but there must be at least one NUMA node, so returning NUMA node zero. See more at https://github.com/torvalds/linux/blob/v6.0/Documentation/ABI/testing/sysfs-bus-pci#L344-L355\n"
     ]
    }
   ],
   "source": [
    "import tensorflow as tf\n",
    "import keras\n",
    "\n",
    "print(tf.__version__)\n",
    "print(f\"GPU Available: {tf.config.list_physical_devices('GPU')}\")"
   ]
  },
  {
   "cell_type": "code",
   "execution_count": 4,
   "metadata": {},
   "outputs": [],
   "source": [
    "gpus = tf.config.experimental.list_physical_devices('GPU')\n",
    "if gpus:\n",
    "    try:\n",
    "        for gpu in gpus:\n",
    "            tf.config.experimental.set_memory_growth(gpu, True)\n",
    "    except RuntimeError as e:\n",
    "        print(e)\n"
   ]
  },
  {
   "cell_type": "code",
   "execution_count": 5,
   "metadata": {},
   "outputs": [],
   "source": [
    "from tensorflow.keras import mixed_precision\n",
    "\n",
    "mixed_precision.set_global_policy('mixed_float16')"
   ]
  },
  {
   "cell_type": "code",
   "execution_count": 6,
   "metadata": {},
   "outputs": [
    {
     "name": "stderr",
     "output_type": "stream",
     "text": [
      "/home/rob/.notebook/lib/python3.10/site-packages/tqdm/auto.py:21: TqdmWarning: IProgress not found. Please update jupyter and ipywidgets. See https://ipywidgets.readthedocs.io/en/stable/user_install.html\n",
      "  from .autonotebook import tqdm as notebook_tqdm\n"
     ]
    }
   ],
   "source": [
    "import tensorflow as tf\n",
    "import keras\n",
    "import pandas as pd\n",
    "import os\n",
    "import keras_cv\n",
    "import matplotlib.pyplot as plt"
   ]
  },
  {
   "cell_type": "code",
   "execution_count": 7,
   "metadata": {},
   "outputs": [
    {
     "name": "stdout",
     "output_type": "stream",
     "text": [
      "Number of images: 10015\n",
      "First 5 image paths: ['ham10000_data/images/ISIC_0027419.jpg', 'ham10000_data/images/ISIC_0025030.jpg', 'ham10000_data/images/ISIC_0026769.jpg', 'ham10000_data/images/ISIC_0025661.jpg', 'ham10000_data/images/ISIC_0031633.jpg']\n",
      "Number of classes: 7\n",
      "Classes: ['akiec', 'bcc', 'bkl', 'df', 'mel', 'nv', 'vasc']\n",
      "Class to Index Mapping: {'akiec': 0, 'bcc': 1, 'bkl': 2, 'df': 3, 'mel': 4, 'nv': 5, 'vasc': 6}\n",
      "Labels: [2 2 2 ... 0 0 4]\n"
     ]
    }
   ],
   "source": [
    "csv_file = 'ham10000_data/HAM10000_metadata.csv'\n",
    "img_dir = 'ham10000_data/images'\n",
    "file_ext = '.jpg'\n",
    "\n",
    "df = pd.read_csv(csv_file)\n",
    "\n",
    "image_paths = [\n",
    "    os.path.join(img_dir, image_id + file_ext)\n",
    "    for image_id in df['image_id']\n",
    "]\n",
    "\n",
    "print(f\"Number of images: {len(image_paths)}\")\n",
    "print(f\"First 5 image paths: {image_paths[:5]}\")\n",
    "\n",
    "classes = sorted(df['dx'].unique())\n",
    "num_classes = len(classes)\n",
    "\n",
    "print(f\"Number of classes: {num_classes}\")\n",
    "print(f\"Classes: {classes}\")\n",
    "\n",
    "labels = df['dx'].map(lambda x: classes.index(x)).values\n",
    "class_to_idx = {cls: idx for idx, cls in enumerate(classes)}\n",
    "\n",
    "print(f\"Class to Index Mapping: {class_to_idx}\")\n",
    "print(f\"Labels: {labels}\")"
   ]
  },
  {
   "cell_type": "code",
   "execution_count": 8,
   "metadata": {},
   "outputs": [
    {
     "data": {
      "text/html": [
       "<div>\n",
       "<style scoped>\n",
       "    .dataframe tbody tr th:only-of-type {\n",
       "        vertical-align: middle;\n",
       "    }\n",
       "\n",
       "    .dataframe tbody tr th {\n",
       "        vertical-align: top;\n",
       "    }\n",
       "\n",
       "    .dataframe thead th {\n",
       "        text-align: right;\n",
       "    }\n",
       "</style>\n",
       "<table border=\"1\" class=\"dataframe\">\n",
       "  <thead>\n",
       "    <tr style=\"text-align: right;\">\n",
       "      <th></th>\n",
       "      <th>lesion_id</th>\n",
       "      <th>image_id</th>\n",
       "      <th>dx</th>\n",
       "      <th>dx_type</th>\n",
       "      <th>age</th>\n",
       "      <th>sex</th>\n",
       "      <th>localization</th>\n",
       "    </tr>\n",
       "  </thead>\n",
       "  <tbody>\n",
       "    <tr>\n",
       "      <th>0</th>\n",
       "      <td>HAM_0000118</td>\n",
       "      <td>ISIC_0027419</td>\n",
       "      <td>bkl</td>\n",
       "      <td>histo</td>\n",
       "      <td>80.0</td>\n",
       "      <td>male</td>\n",
       "      <td>scalp</td>\n",
       "    </tr>\n",
       "    <tr>\n",
       "      <th>1</th>\n",
       "      <td>HAM_0000118</td>\n",
       "      <td>ISIC_0025030</td>\n",
       "      <td>bkl</td>\n",
       "      <td>histo</td>\n",
       "      <td>80.0</td>\n",
       "      <td>male</td>\n",
       "      <td>scalp</td>\n",
       "    </tr>\n",
       "    <tr>\n",
       "      <th>2</th>\n",
       "      <td>HAM_0002730</td>\n",
       "      <td>ISIC_0026769</td>\n",
       "      <td>bkl</td>\n",
       "      <td>histo</td>\n",
       "      <td>80.0</td>\n",
       "      <td>male</td>\n",
       "      <td>scalp</td>\n",
       "    </tr>\n",
       "    <tr>\n",
       "      <th>3</th>\n",
       "      <td>HAM_0002730</td>\n",
       "      <td>ISIC_0025661</td>\n",
       "      <td>bkl</td>\n",
       "      <td>histo</td>\n",
       "      <td>80.0</td>\n",
       "      <td>male</td>\n",
       "      <td>scalp</td>\n",
       "    </tr>\n",
       "    <tr>\n",
       "      <th>4</th>\n",
       "      <td>HAM_0001466</td>\n",
       "      <td>ISIC_0031633</td>\n",
       "      <td>bkl</td>\n",
       "      <td>histo</td>\n",
       "      <td>75.0</td>\n",
       "      <td>male</td>\n",
       "      <td>ear</td>\n",
       "    </tr>\n",
       "  </tbody>\n",
       "</table>\n",
       "</div>"
      ],
      "text/plain": [
       "     lesion_id      image_id   dx dx_type   age   sex localization\n",
       "0  HAM_0000118  ISIC_0027419  bkl   histo  80.0  male        scalp\n",
       "1  HAM_0000118  ISIC_0025030  bkl   histo  80.0  male        scalp\n",
       "2  HAM_0002730  ISIC_0026769  bkl   histo  80.0  male        scalp\n",
       "3  HAM_0002730  ISIC_0025661  bkl   histo  80.0  male        scalp\n",
       "4  HAM_0001466  ISIC_0031633  bkl   histo  75.0  male          ear"
      ]
     },
     "metadata": {},
     "output_type": "display_data"
    }
   ],
   "source": [
    "from IPython.display import display\n",
    "\n",
    "display(df.head())"
   ]
  },
  {
   "cell_type": "code",
   "execution_count": 9,
   "metadata": {},
   "outputs": [
    {
     "data": {
      "text/plain": [
       "lesion_id        0\n",
       "image_id         0\n",
       "dx               0\n",
       "dx_type          0\n",
       "age             57\n",
       "sex              0\n",
       "localization     0\n",
       "dtype: int64"
      ]
     },
     "execution_count": 9,
     "metadata": {},
     "output_type": "execute_result"
    }
   ],
   "source": [
    "df.isnull().sum()"
   ]
  },
  {
   "cell_type": "code",
   "execution_count": 10,
   "metadata": {},
   "outputs": [
    {
     "data": {
      "image/png": "[encoded data removed]",
      "text/plain": [
       "<Figure size 1000x600 with 1 Axes>"
      ]
     },
     "metadata": {},
     "output_type": "display_data"
    }
   ],
   "source": [
    "import matplotlib.pyplot as plt\n",
    "\n",
    "plt.figure(figsize=(10, 6))\n",
    "value_counts = df['dx'].value_counts()\n",
    "\n",
    "plt.bar(value_counts.index, value_counts.values)\n",
    "plt.title('Distribution of Lesion Categories')\n",
    "plt.xlabel('Lesion Category')\n",
    "plt.ylabel('Frequency')\n",
    "plt.xticks(rotation=45, ha='right')\n",
    "plt.show()"
   ]
  },
  {
   "cell_type": "code",
   "execution_count": 11,
   "metadata": {},
   "outputs": [],
   "source": [
    "# import matplotlib.pyplot as plt\n",
    "# import random\n",
    "# import tensorflow as tf\n",
    "\n",
    "# n_samples_per_class = 5\n",
    "\n",
    "# plt.figure(figsize=(15, len(classes) * 3))\n",
    "\n",
    "# for class_index, class_name in enumerate(classes):\n",
    "#     class_indices = [i for i, label in enumerate(labels) if label == class_index]\n",
    "\n",
    "#     random_class_indices = random.sample(class_indices, min(n_samples_per_class, len(class_indices)))\n",
    "\n",
    "#     for i, idx in enumerate(random_class_indices):\n",
    "#         img_path = image_paths[idx]\n",
    "#         label = labels[idx]\n",
    "\n",
    "#         img = tf.io.read_file(img_path)\n",
    "#         img = tf.image.decode_jpeg(img, channels=3)\n",
    "\n",
    "#         # Display image\n",
    "#         plt.subplot(len(classes), n_samples_per_class, class_index * n_samples_per_class + i + 1)\n",
    "#         plt.imshow(img)\n",
    "#         plt.title(f\"Class: {class_name}\")\n",
    "#         plt.axis('off')\n",
    "\n",
    "# plt.tight_layout()\n",
    "# plt.show()\n"
   ]
  },
  {
   "cell_type": "code",
   "execution_count": 12,
   "metadata": {},
   "outputs": [
    {
     "name": "stdout",
     "output_type": "stream",
     "text": [
      "Training set size: 8012\n",
      "Validation set size: 2003\n"
     ]
    },
    {
     "name": "stderr",
     "output_type": "stream",
     "text": [
      "I0000 00:00:1727598410.509686   45235 cuda_executor.cc:1015] successful NUMA node read from SysFS had negative value (-1), but there must be at least one NUMA node, so returning NUMA node zero. See more at https://github.com/torvalds/linux/blob/v6.0/Documentation/ABI/testing/sysfs-bus-pci#L344-L355\n",
      "I0000 00:00:1727598410.509998   45235 cuda_executor.cc:1015] successful NUMA node read from SysFS had negative value (-1), but there must be at least one NUMA node, so returning NUMA node zero. See more at https://github.com/torvalds/linux/blob/v6.0/Documentation/ABI/testing/sysfs-bus-pci#L344-L355\n",
      "I0000 00:00:1727598410.510203   45235 cuda_executor.cc:1015] successful NUMA node read from SysFS had negative value (-1), but there must be at least one NUMA node, so returning NUMA node zero. See more at https://github.com/torvalds/linux/blob/v6.0/Documentation/ABI/testing/sysfs-bus-pci#L344-L355\n",
      "I0000 00:00:1727598410.510387   45235 cuda_executor.cc:1015] successful NUMA node read from SysFS had negative value (-1), but there must be at least one NUMA node, so returning NUMA node zero. See more at https://github.com/torvalds/linux/blob/v6.0/Documentation/ABI/testing/sysfs-bus-pci#L344-L355\n",
      "I0000 00:00:1727598410.510569   45235 cuda_executor.cc:1015] successful NUMA node read from SysFS had negative value (-1), but there must be at least one NUMA node, so returning NUMA node zero. See more at https://github.com/torvalds/linux/blob/v6.0/Documentation/ABI/testing/sysfs-bus-pci#L344-L355\n",
      "I0000 00:00:1727598410.510762   45235 cuda_executor.cc:1015] successful NUMA node read from SysFS had negative value (-1), but there must be at least one NUMA node, so returning NUMA node zero. See more at https://github.com/torvalds/linux/blob/v6.0/Documentation/ABI/testing/sysfs-bus-pci#L344-L355\n",
      "I0000 00:00:1727598410.527177   45235 cuda_executor.cc:1015] successful NUMA node read from SysFS had negative value (-1), but there must be at least one NUMA node, so returning NUMA node zero. See more at https://github.com/torvalds/linux/blob/v6.0/Documentation/ABI/testing/sysfs-bus-pci#L344-L355\n",
      "I0000 00:00:1727598410.527440   45235 cuda_executor.cc:1015] successful NUMA node read from SysFS had negative value (-1), but there must be at least one NUMA node, so returning NUMA node zero. See more at https://github.com/torvalds/linux/blob/v6.0/Documentation/ABI/testing/sysfs-bus-pci#L344-L355\n",
      "I0000 00:00:1727598410.527653   45235 cuda_executor.cc:1015] successful NUMA node read from SysFS had negative value (-1), but there must be at least one NUMA node, so returning NUMA node zero. See more at https://github.com/torvalds/linux/blob/v6.0/Documentation/ABI/testing/sysfs-bus-pci#L344-L355\n",
      "I0000 00:00:1727598410.527843   45235 cuda_executor.cc:1015] successful NUMA node read from SysFS had negative value (-1), but there must be at least one NUMA node, so returning NUMA node zero. See more at https://github.com/torvalds/linux/blob/v6.0/Documentation/ABI/testing/sysfs-bus-pci#L344-L355\n",
      "I0000 00:00:1727598410.528038   45235 cuda_executor.cc:1015] successful NUMA node read from SysFS had negative value (-1), but there must be at least one NUMA node, so returning NUMA node zero. See more at https://github.com/torvalds/linux/blob/v6.0/Documentation/ABI/testing/sysfs-bus-pci#L344-L355\n",
      "I0000 00:00:1727598410.528720   45235 cuda_executor.cc:1015] successful NUMA node read from SysFS had negative value (-1), but there must be at least one NUMA node, so returning NUMA node zero. See more at https://github.com/torvalds/linux/blob/v6.0/Documentation/ABI/testing/sysfs-bus-pci#L344-L355\n"
     ]
    }
   ],
   "source": [
    "from sklearn.model_selection import StratifiedShuffleSplit\n",
    "\n",
    "train_paths = []\n",
    "train_labels = []\n",
    "val_paths = []\n",
    "val_labels = []\n",
    "\n",
    "sss = StratifiedShuffleSplit(n_splits=1, test_size=0.2, random_state=42)\n",
    "for train_index, val_index in sss.split(image_paths, labels):\n",
    "    train_paths = [image_paths[i] for i in train_index]\n",
    "    train_labels = labels[train_index]\n",
    "    val_paths = [image_paths[i] for i in val_index]\n",
    "    val_labels = labels[val_index]\n",
    "\n",
    "print(f\"Training set size: {len(train_paths)}\")\n",
    "print(f\"Validation set size: {len(val_paths)}\")\n",
    "\n",
    "train_dataset = tf.data.Dataset.from_tensor_slices((train_paths, train_labels))\n",
    "val_dataset = tf.data.Dataset.from_tensor_slices((val_paths, val_labels))"
   ]
  },
  {
   "cell_type": "code",
   "execution_count": 13,
   "metadata": {
    "vscode": {
     "languageId": "ruby"
    }
   },
   "outputs": [],
   "source": [
    "import tensorflow as tf\n",
    "\n",
    "def load_and_preprocess_image(image_path, label):\n",
    "    image = tf.io.read_file(image_path)\n",
    "    image = tf.image.decode_jpeg(image, channels=3)\n",
    "    image = tf.image.resize(image, [224, 224])  # Resize to (224, 224, 3)\n",
    "    image = image / 255.0  # Normalize to [0, 1]\n",
    "    return image, label\n",
    "\n",
    "# Batch size\n",
    "batch_size = 32\n",
    "\n",
    "# Training dataset pipeline\n",
    "train_dataset = train_dataset.map(load_and_preprocess_image, num_parallel_calls=tf.data.AUTOTUNE)\n",
    "train_dataset = train_dataset.shuffle(buffer_size=1000)  # Shuffle dataset for randomness\n",
    "train_dataset = train_dataset.batch(batch_size, drop_remainder=True)  # Batch the dataset\n",
    "train_dataset = train_dataset.prefetch(tf.data.AUTOTUNE)  # Prefetch to optimize GPU usage\n",
    "train_dataset = train_dataset.cache()  # Cache the dataset in memory for faster epochs\n",
    "\n",
    "# Validation dataset pipeline\n",
    "val_dataset = val_dataset.map(load_and_preprocess_image, num_parallel_calls=tf.data.AUTOTUNE)\n",
    "val_dataset = val_dataset.batch(batch_size, drop_remainder=True)  # Batch validation dataset\n",
    "val_dataset = val_dataset.prefetch(tf.data.AUTOTUNE)  # Prefetch to optimize GPU usage\n",
    "val_dataset = val_dataset.cache()  # Cache validation dataset\n"
   ]
  },
  {
   "cell_type": "code",
   "execution_count": 14,
   "metadata": {},
   "outputs": [],
   "source": [
    "data_augmentation = keras.Sequential([\n",
    "    keras.layers.RandomFlip('horizontal'),\n",
    "    keras.layers.RandomRotation(0.1),\n",
    "    keras.layers.RandomZoom(0.1),\n",
    "    keras.layers.RandomContrast(0.1),\n",
    "    keras.layers.RandomTranslation(0.1, 0.1),\n",
    "])"
   ]
  },
  {
   "cell_type": "code",
   "execution_count": 15,
   "metadata": {},
   "outputs": [
    {
     "name": "stdout",
     "output_type": "stream",
     "text": [
      "Image shape: (32, 224, 224, 3), Label: [5 5 1 4 4 5 5 5 5 5 1 5 5 2 0 5 5 5 5 5 5 5 2 5 5 2 5 5 1 4 5 5]\n"
     ]
    }
   ],
   "source": [
    "for image, label in train_dataset.take(1):\n",
    "    print(f\"Image shape: {image.shape}, Label: {label}\")"
   ]
  },
  {
   "cell_type": "code",
   "execution_count": 16,
   "metadata": {},
   "outputs": [],
   "source": [
    "from sklearn.utils import class_weight\n",
    "import numpy as np\n",
    "\n",
    "class_weights = class_weight.compute_class_weight(\n",
    "    class_weight='balanced',\n",
    "    classes=np.unique(train_labels),\n",
    "    y=train_labels\n",
    ")\n",
    "\n",
    "# Convert class weights to a dictionary\n",
    "class_weight_dict = dict(enumerate(class_weights))\n"
   ]
  },
  {
   "cell_type": "code",
   "execution_count": 17,
   "metadata": {},
   "outputs": [],
   "source": [
    "import numpy as np\n",
    "\n",
    "class_counts = np.bincount(train_labels)\n",
    "total_counts = np.sum(class_counts)\n",
    "class_prior = class_counts / total_counts\n",
    "output_bias = np.log(class_prior)\n",
    "\n",
    "\n",
    "def build_model(hp):\n",
    "\n",
    "    strategy = tf.distribute.MirroredStrategy()\n",
    "\n",
    "    with strategy.scope():\n",
    "        base_model = keras.applications.resnet.ResNet50(\n",
    "            include_top=False,\n",
    "            weights='imagenet',\n",
    "            input_shape=(224, 224, 3),\n",
    "            pooling=None\n",
    "        )\n",
    "\n",
    "        base_model.trainable = False\n",
    "\n",
    "        # base_model.trainable = hp.Choice('fine_tune_base_model', values=[False, True])\n",
    "        # if base_model.trainable:\n",
    "        #     fine_tune_at = hp.Int('fine_tune_at', min_value=100, max_value=150)\n",
    "        #     for layer in base_model.layers[:fine_tune_at]:\n",
    "        #         layer.trainable = False\n",
    "\n",
    "        inputs = keras.Input(shape=(224, 224, 3))\n",
    "        # x = data_augmentation(inputs)\n",
    "        x = base_model(inputs, training=False)\n",
    "        x = keras.layers.GlobalAveragePooling2D()(x)\n",
    "\n",
    "        dropout_rate = hp.Float('dropout_rate', min_value=0.0, max_value=0.7, step=0.1)\n",
    "        if dropout_rate > 0.0:\n",
    "            x = keras.layers.Dropout(dropout_rate)(x)\n",
    "\n",
    "        # Output Layer\n",
    "        outputs = keras.layers.Dense(\n",
    "            num_classes,\n",
    "            activation='softmax',\n",
    "            bias_initializer=keras.initializers.Constant(output_bias),\n",
    "            kernel_regularizer = keras.regularizers.l2(hp.Float('l2_regularization', min_value=0.0, max_value=0.1, step=0.01))\n",
    "        )(x)\n",
    "\n",
    "        model = keras.Model(inputs, outputs)\n",
    "\n",
    "        learning_rate = hp.Choice('learning_rate', values=[1e-2, 1e-3, 1e-4, 1e-5, 1e-6])\n",
    "\n",
    "        optimizer = hp.Choice('optimizer', values=['adam', 'rmsprop', 'sgd'])\n",
    "        if optimizer == 'adam':\n",
    "            optimizer_instance = keras.optimizers.Adam(learning_rate=learning_rate)\n",
    "        elif optimizer == 'rmsprop':\n",
    "            optimizer_instance = keras.optimizers.RMSprop(learning_rate=learning_rate)\n",
    "        else:\n",
    "            optimizer_instance = keras.optimizers.SGD(learning_rate=learning_rate, momentum=0.9)\n",
    "\n",
    "        model.compile(\n",
    "            optimizer=optimizer,\n",
    "            loss='sparse_categorical_crossentropy',\n",
    "            metrics=[\n",
    "                'accuracy'\n",
    "            ]\n",
    "        )\n",
    "\n",
    "        return model\n"
   ]
  },
  {
   "cell_type": "code",
   "execution_count": 18,
   "metadata": {},
   "outputs": [],
   "source": [
    "from keras_tuner import HyperModel\n",
    "\n",
    "class ResNet50ClassWeights(HyperModel):\n",
    "    def build(self, hp):\n",
    "        return build_model(hp)\n",
    "\n",
    "    def fit(self, hp, model, *args, **kwargs):\n",
    "        return model.fit(\n",
    "            *args,\n",
    "            **kwargs,\n",
    "            # class_weight=class_weight_dict  # Pass class weights here\n",
    "        )\n"
   ]
  },
  {
   "cell_type": "code",
   "execution_count": 19,
   "metadata": {},
   "outputs": [
    {
     "name": "stdout",
     "output_type": "stream",
     "text": [
      "INFO:tensorflow:Using MirroredStrategy with devices ('/job:localhost/replica:0/task:0/device:GPU:0', '/job:localhost/replica:0/task:0/device:GPU:1')\n",
      "Search space summary\n",
      "Default search space size: 4\n",
      "dropout_rate (Float)\n",
      "{'default': 0.0, 'conditions': [], 'min_value': 0.0, 'max_value': 0.7, 'step': 0.1, 'sampling': 'linear'}\n",
      "l2_regularization (Float)\n",
      "{'default': 0.0, 'conditions': [], 'min_value': 0.0, 'max_value': 0.1, 'step': 0.01, 'sampling': 'linear'}\n",
      "learning_rate (Choice)\n",
      "{'default': 0.01, 'conditions': [], 'values': [0.01, 0.001, 0.0001, 1e-05, 1e-06], 'ordered': True}\n",
      "optimizer (Choice)\n",
      "{'default': 'adam', 'conditions': [], 'values': ['adam', 'rmsprop', 'sgd'], 'ordered': False}\n"
     ]
    }
   ],
   "source": [
    "from keras_tuner import RandomSearch\n",
    "\n",
    "tuner = RandomSearch(\n",
    "    ResNet50ClassWeights(),\n",
    "    objective='val_accuracy',\n",
    "    max_trials=10,\n",
    "    executions_per_trial=1,\n",
    "    directory='random_search/resnet50/class_weights',\n",
    "    project_name='hyperparameter_tuning'\n",
    ")\n",
    "\n",
    "tuner.search_space_summary()\n"
   ]
  },
  {
   "cell_type": "code",
   "execution_count": 20,
   "metadata": {},
   "outputs": [
    {
     "name": "stdout",
     "output_type": "stream",
     "text": [
      "Trial 21 Complete [00h 02m 41s]\n",
      "val_accuracy: 0.6683467626571655\n",
      "\n",
      "Best val_accuracy So Far: 0.6683467626571655\n",
      "Total elapsed time: 00h 55m 46s\n",
      "\n",
      "Search: Running Trial #22\n",
      "\n",
      "Value             |Best Value So Far |Hyperparameter\n",
      "0.3               |0.5               |dropout_rate\n",
      "0.04              |0                 |l2_regularization\n",
      "0.0001            |0.0001            |learning_rate\n",
      "rmsprop           |adam              |optimizer\n",
      "\n",
      "INFO:tensorflow:Using MirroredStrategy with devices ('/job:localhost/replica:0/task:0/device:GPU:0', '/job:localhost/replica:0/task:0/device:GPU:1')\n",
      "Epoch 1/10\n",
      "INFO:tensorflow:Collective all_reduce tensors: 2 all_reduces, num_devices = 2, group_size = 2, implementation = CommunicationImplementation.NCCL, num_packs = 1\n",
      "\u001b[1m250/250\u001b[0m \u001b[32m━━━━━━━━━━━━━━━━━━━━\u001b[0m\u001b[37m\u001b[0m \u001b[1m25s\u001b[0m 73ms/step - accuracy: 0.6596 - loss: 1.3346 - val_accuracy: 0.6683 - val_loss: 1.1409\n",
      "Epoch 2/10\n",
      "\u001b[1m250/250\u001b[0m \u001b[32m━━━━━━━━━━━━━━━━━━━━\u001b[0m\u001b[37m\u001b[0m \u001b[1m14s\u001b[0m 57ms/step - accuracy: 0.6708 - loss: 1.1614 - val_accuracy: 0.6683 - val_loss: 1.1340\n",
      "Epoch 3/10\n",
      "\u001b[1m250/250\u001b[0m \u001b[32m━━━━━━━━━━━━━━━━━━━━\u001b[0m\u001b[37m\u001b[0m \u001b[1m14s\u001b[0m 56ms/step - accuracy: 0.6708 - loss: 1.1514 - val_accuracy: 0.6683 - val_loss: 1.1303\n",
      "Epoch 4/10\n",
      "\u001b[1m250/250\u001b[0m \u001b[32m━━━━━━━━━━━━━━━━━━━━\u001b[0m\u001b[37m\u001b[0m \u001b[1m14s\u001b[0m 56ms/step - accuracy: 0.6708 - loss: 1.1517 - val_accuracy: 0.6683 - val_loss: 1.1291\n",
      "Epoch 5/10\n",
      "\u001b[1m250/250\u001b[0m \u001b[32m━━━━━━━━━━━━━━━━━━━━\u001b[0m\u001b[37m\u001b[0m \u001b[1m14s\u001b[0m 56ms/step - accuracy: 0.6708 - loss: 1.1498 - val_accuracy: 0.6683 - val_loss: 1.1295\n",
      "Epoch 6/10\n",
      "\u001b[1m250/250\u001b[0m \u001b[32m━━━━━━━━━━━━━━━━━━━━\u001b[0m\u001b[37m\u001b[0m \u001b[1m14s\u001b[0m 56ms/step - accuracy: 0.6708 - loss: 1.1490 - val_accuracy: 0.6683 - val_loss: 1.1291\n",
      "Epoch 7/10\n",
      "\u001b[1m226/250\u001b[0m \u001b[32m━━━━━━━━━━━━━━━━━━\u001b[0m\u001b[37m━━\u001b[0m \u001b[1m1s\u001b[0m 45ms/step - accuracy: 0.6711 - loss: 1.1477"
     ]
    },
    {
     "name": "stderr",
     "output_type": "stream",
     "text": [
      "IOPub message rate exceeded.\n",
      "The Jupyter server will temporarily stop sending output\n",
      "to the client in order to avoid crashing it.\n",
      "To change this limit, set the config variable\n",
      "`--ServerApp.iopub_msg_rate_limit`.\n",
      "\n",
      "Current values:\n",
      "ServerApp.iopub_msg_rate_limit=1000.0 (msgs/sec)\n",
      "ServerApp.rate_limit_window=3.0 (secs)\n",
      "\n"
     ]
    },
    {
     "name": "stdout",
     "output_type": "stream",
     "text": [
      "\u001b[1m250/250\u001b[0m \u001b[32m━━━━━━━━━━━━━━━━━━━━\u001b[0m\u001b[37m\u001b[0m \u001b[1m14s\u001b[0m 57ms/step - accuracy: 0.6708 - loss: 1.1509 - val_accuracy: 0.6683 - val_loss: 1.1326\n",
      "Epoch 9/10\n",
      "\u001b[1m175/250\u001b[0m \u001b[32m━━━━━━━━━━━━━━\u001b[0m\u001b[37m━━━━━━\u001b[0m \u001b[1m3s\u001b[0m 45ms/step - accuracy: 0.6723 - loss: 1.1490"
     ]
    },
    {
     "ename": "",
     "evalue": "",
     "output_type": "error",
     "traceback": [
      "\u001b[1;31mFailed to connect to the remote Jupyter Server 'http://178.238.140.95:8888/'. Verify the server is running and reachable."
     ]
    }
   ],
   "source": [
    "tuner.search(\n",
    "    train_dataset,\n",
    "    validation_data=val_dataset,\n",
    "    epochs=10,\n",
    ")"
   ]
  },
  {
   "cell_type": "code",
   "execution_count": null,
   "metadata": {},
   "outputs": [],
   "source": [
    "best_hps = tuner.get_best_hyperparameters(num_trials=1)[0]\n",
    "\n",
    "print(f\"\"\"\n",
    "Hyperparameters:\n",
    "Best Learning Rate: {best_hps.get('learning_rate')}\n",
    "Best Weight Decay: {best_hps.get('weight_decay')}\n",
    "\"\"\")\n",
    "\n"
   ]
  },
  {
   "cell_type": "code",
   "execution_count": null,
   "metadata": {},
   "outputs": [],
   "source": [
    "from keras.callbacks import ModelCheckpoint\n",
    "\n",
    "best_model = tuner.hypermodel.build(best_hps)\n",
    "\n",
    "callbacks = [\n",
    "    keras.callbacks.EarlyStopping(\n",
    "        monitor='val_loss',\n",
    "        patience=10,\n",
    "        min_delta=1e-4,\n",
    "        restore_best_weights=True\n",
    "    ),\n",
    "    keras.callbacks.ReduceLROnPlateau(\n",
    "        monitor='val_loss',\n",
    "        factor=0.1,\n",
    "        patience=5,\n",
    "        min_lr=1e-7\n",
    "    ),\n",
    "    ModelCheckpoint(\n",
    "        filepath='models/resnet50-ham10000.keras',\n",
    "        monitor='val_loss',\n",
    "        save_best_only=True,\n",
    "        save_weights_only=False,\n",
    "        verbose=1\n",
    "    ),\n",
    "]\n",
    "\n",
    "history = best_model.fit(\n",
    "    train_dataset,\n",
    "    validation_data=val_dataset,\n",
    "    epochs=500,\n",
    "    callbacks=callbacks\n",
    ")\n",
    "\n",
    "best_model.save('models/resnet50-ham10000-final.keras')"
   ]
  },
  {
   "cell_type": "code",
   "execution_count": null,
   "metadata": {},
   "outputs": [],
   "source": [
    "plt.figure(figsize=(12, 4))\n",
    "\n",
    "plt.subplot(1, 2, 1)\n",
    "plt.plot(history.history['accuracy'], label='Training Accuracy')\n",
    "plt.plot(history.history['val_accuracy'], label='Validation Accuracy')\n",
    "plt.xlabel('Epoch')\n",
    "plt.ylabel('Accuracy')\n",
    "plt.legend()\n",
    "\n",
    "plt.subplot(1, 2, 2)\n",
    "plt.plot(history.history['loss'], label='Training Loss')\n",
    "plt.plot(history.history['val_loss'], label='Validation Loss')\n",
    "plt.xlabel('Epoch')\n",
    "plt.ylabel('Loss')\n",
    "plt.legend()\n",
    "\n",
    "plt.show()"
   ]
  },
  {
   "cell_type": "code",
   "execution_count": null,
   "metadata": {},
   "outputs": [],
   "source": [
    "import numpy as np\n",
    "import matplotlib.pyplot as plt\n",
    "import seaborn as sns\n",
    "from sklearn.metrics import classification_report, confusion_matrix\n",
    "import tensorflow as tf\n",
    "\n",
    "y_true = []\n",
    "y_pred = []\n",
    "\n",
    "def get_predictions(dataset):\n",
    "    for images, labels in dataset:\n",
    "        predictions = best_model.predict(images)\n",
    "        y_true.extend(labels.numpy())\n",
    "        y_pred.extend(np.argmax(predictions, axis=1))\n",
    "    return np.array(y_true), np.array(y_pred)\n",
    "\n",
    "# Get predictions for validation dataset\n",
    "y_true, y_pred = get_predictions(val_dataset)"
   ]
  },
  {
   "cell_type": "code",
   "execution_count": null,
   "metadata": {},
   "outputs": [],
   "source": [
    "# Classification Report\n",
    "\n",
    "print(\"Classification Report:\")\n",
    "print(classification_report(y_true, y_pred, target_names=classes))"
   ]
  },
  {
   "cell_type": "code",
   "execution_count": null,
   "metadata": {},
   "outputs": [],
   "source": [
    "# Confusion Matrix\n",
    "cm = confusion_matrix(y_true, y_pred)\n",
    "plt.figure(figsize=(10, 8))\n",
    "sns.heatmap(cm, annot=True, fmt='d', cmap='Blues',\n",
    "            xticklabels=classes, yticklabels=classes)\n",
    "plt.title('Confusion Matrix')\n",
    "plt.xlabel('Predicted')\n",
    "plt.ylabel('True')\n",
    "plt.show()"
   ]
  },
  {
   "cell_type": "code",
   "execution_count": null,
   "metadata": {},
   "outputs": [],
   "source": [
    "# Per-class Accuracy Plot\n",
    "class_accuracies = cm.diagonal() / cm.sum(axis=1)\n",
    "plt.figure(figsize=(10, 6))\n",
    "sns.barplot(x=classes, y=class_accuracies)\n",
    "plt.title('Per-class Accuracy')\n",
    "plt.xlabel('Class')\n",
    "plt.ylabel('Accuracy')\n",
    "plt.xticks(rotation=45)\n",
    "plt.show()"
   ]
  },
  {
   "cell_type": "code",
   "execution_count": null,
   "metadata": {},
   "outputs": [],
   "source": [
    "# Class distribution in training set\n",
    "train_labels = np.concatenate([labels.numpy() for _, labels in train_dataset])\n",
    "train_class_dist = np.bincount(train_labels) / len(train_labels)\n",
    "\n",
    "plt.figure(figsize=(10, 6))\n",
    "sns.barplot(x=classes, y=train_class_dist)\n",
    "plt.title('Class Distribution in Training Set')\n",
    "plt.xlabel('Class')\n",
    "plt.ylabel('Proportion')\n",
    "plt.xticks(rotation=45)\n",
    "plt.show()"
   ]
  }
 ],
 "metadata": {
  "kernelspec": {
   "display_name": "Python 3 (ipykernel)",
   "language": "python",
   "name": "python3"
  },
  "language_info": {
   "codemirror_mode": {
    "name": "ipython",
    "version": 3
   },
   "file_extension": ".py",
   "mimetype": "text/x-python",
   "name": "python",
   "nbconvert_exporter": "python",
   "pygments_lexer": "ipython3",
   "version": "3.10.12"
  }
 },
 "nbformat": 4,
 "nbformat_minor": 2
}
